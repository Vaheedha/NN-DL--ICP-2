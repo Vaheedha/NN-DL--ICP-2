{
  "nbformat": 4,
  "nbformat_minor": 0,
  "metadata": {
    "colab": {
      "provenance": [],
      "authorship_tag": "ABX9TyMvZ10IRheWFDF6wdeDvPDS",
      "include_colab_link": true
    },
    "kernelspec": {
      "name": "python3",
      "display_name": "Python 3"
    },
    "language_info": {
      "name": "python"
    }
  },
  "cells": [
    {
      "cell_type": "markdown",
      "metadata": {
        "id": "view-in-github",
        "colab_type": "text"
      },
      "source": [
        "<a href=\"https://colab.research.google.com/github/Vaheedha/NN-DL--ICP-2/blob/main/NN%26DL_ICP_2.ipynb\" target=\"_parent\"><img src=\"https://colab.research.google.com/assets/colab-badge.svg\" alt=\"Open In Colab\"/></a>"
      ]
    },
    {
      "cell_type": "code",
      "execution_count": 4,
      "metadata": {
        "colab": {
          "base_uri": "https://localhost:8080/"
        },
        "id": "fZYvm28suKjb",
        "outputId": "f1bc7a13-6357-49a6-be90-a1b8733c44fd"
      },
      "outputs": [
        {
          "output_type": "stream",
          "name": "stdout",
          "text": [
            "Enter first name \n",
            "vaheedha\n",
            "Enter last name \n",
            "shail\n",
            "full name :  vaheedha shail\n",
            "alternate letters :  vheh hi\n"
          ]
        }
      ],
      "source": [
        "# QUE 1\n",
        "\n",
        "first_name = input(\"Enter first name \\n\")\n",
        "last_name = input(\"Enter last name \\n\")\n",
        "\n",
        "def string_alternative(name):\n",
        "    return (name[::2])\n",
        "\n",
        "def fullName(first_name, last_name):\n",
        "    name = first_name + \" \" + last_name\n",
        "    print (\"full name : \", name)\n",
        "    sa = string_alternative(name)\n",
        "    print(\"alternate letters : \", sa)\n",
        "\n",
        "\n",
        "fullName(first_name, last_name)"
      ]
    },
    {
      "cell_type": "code",
      "source": [
        "#Que 2\n",
        "\n",
        "# function to return word_counts array after counting words in each line and storing them in word_counts array\n",
        "def count_words(line, word_counts):\n",
        "    words = line.split()\n",
        "    # loop to count the occurance of each word\n",
        "    for word in words:\n",
        "        word_counts[word] = word_counts.get(word, 0) + 1\n",
        "    return word_counts\n",
        "# Main function\n",
        "def main():\n",
        "    input_filename = \"input.txt\"\n",
        "    output_filename = \"output.txt\"\n",
        "\n",
        "    try:\n",
        "        # Reads the input file\n",
        "        with open(input_filename, 'r') as input_file:\n",
        "            readline = input_file.readlines()\n",
        "\n",
        "        word_counts = {}\n",
        "        for line in readline:\n",
        "            line = line.strip()  # Remove leading/trailing whitespace\n",
        "            # Function to count words\n",
        "            word_count = count_words(line, word_counts)\n",
        "        # Writing the input file lines to output file\n",
        "        with open(output_filename, 'w') as output_file:\n",
        "            for line in readline:\n",
        "                output_file.write(line)\n",
        "\n",
        "            output_file.write(\"\\nWord_Count:\\n\")\n",
        "            # Displaying the words and its count in output file\n",
        "            for word, count in word_counts.items():\n",
        "                output_file.write(f\"{word}: {count}\\n\")\n",
        "                print(f\"{word}: {count}\")\n",
        "\n",
        "    except FileNotFoundError:\n",
        "        print(f\"File '{input_filename}' not found.\")\n",
        "\n"
      ],
      "metadata": {
        "id": "ZTszGGv0gC7J"
      },
      "execution_count": 3,
      "outputs": []
    },
    {
      "cell_type": "code",
      "source": [
        "# QUE 3\n",
        "\n",
        "inches = list(map(int, input().split(\" \")))\n",
        "cmList = []\n",
        "cm_comprehensions = []\n",
        "\n",
        "# Nested Interactive loop method\n",
        "for each in inches :\n",
        "    cm  = 2.54 * each\n",
        "    cmList.append(cm)\n",
        "\n",
        "print (\"Height in cm - Nested Interactive loop method \\n\", cmList)\n",
        "\n",
        "# List Comprehension method\n",
        "cm_comprehensions = [(height * 2.54) for height in inches]\n",
        "\n",
        "print (\"Height in cm - List Comprehension method \\n\", cm_comprehensions)"
      ],
      "metadata": {
        "colab": {
          "base_uri": "https://localhost:8080/"
        },
        "id": "AvK_zJvHKj9A",
        "outputId": "09df8b42-6405-4c84-9421-7424960b2b92"
      },
      "execution_count": 9,
      "outputs": [
        {
          "output_type": "stream",
          "name": "stdout",
          "text": [
            "65 68 66 65 63\n",
            "Height in cm - Nested Interactive loop method \n",
            " [165.1, 172.72, 167.64000000000001, 165.1, 160.02]\n",
            "Height in cm - List Comprehension method \n",
            " [165.1, 172.72, 167.64000000000001, 165.1, 160.02]\n"
          ]
        }
      ]
    }
  ]
}